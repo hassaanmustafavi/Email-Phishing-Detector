{
 "cells": [
  {
   "cell_type": "code",
   "execution_count": 33,
   "id": "6ecd67fc",
   "metadata": {},
   "outputs": [
    {
     "name": "stderr",
     "output_type": "stream",
     "text": [
      "[nltk_data] Downloading package punkt to\n",
      "[nltk_data]     C:\\Users\\hassa\\AppData\\Roaming\\nltk_data...\n",
      "[nltk_data]   Package punkt is already up-to-date!\n",
      "[nltk_data] Downloading package stopwords to\n",
      "[nltk_data]     C:\\Users\\hassa\\AppData\\Roaming\\nltk_data...\n",
      "[nltk_data]   Package stopwords is already up-to-date!\n"
     ]
    }
   ],
   "source": [
    "# Importing Libraries\n",
    "import pickle\n",
    "import pandas as pd\n",
    "import numpy as np\n",
    "import seaborn as sns\n",
    "import matplotlib.pyplot as plt\n",
    "import re\n",
    "import joblib\n",
    "import warnings\n",
    "warnings.filterwarnings('ignore')\n",
    "\n",
    "# Natural Language Processing Libraries\n",
    "import nltk\n",
    "from nltk.tokenize import word_tokenize\n",
    "from nltk.corpus import stopwords\n",
    "from nltk.stem import PorterStemmer, SnowballStemmer\n",
    "from collections import Counter\n",
    "nltk.download('punkt')\n",
    "nltk.download('stopwords')\n",
    "\n",
    "# TensorFlow and Keras\n",
    "import tensorflow as tf\n",
    "from tensorflow.keras.models import Sequential, load_model\n",
    "from tensorflow.keras.layers import Dense, Dropout, Embedding, GRU, LSTM, Bidirectional, SimpleRNN\n",
    "from tensorflow.keras.callbacks import EarlyStopping\n",
    "from tensorflow.keras.preprocessing.text import Tokenizer\n",
    "from tensorflow.keras.preprocessing.sequence import pad_sequences\n",
    "\n",
    "# Scikit-Learn Libraries\n",
    "from sklearn.model_selection import train_test_split\n",
    "from sklearn.feature_extraction.text import TfidfVectorizer, CountVectorizer\n",
    "from sklearn.linear_model import LogisticRegression\n",
    "from sklearn.neural_network import MLPClassifier\n",
    "from sklearn.preprocessing import LabelEncoder\n",
    "from sklearn.metrics import accuracy_score, f1_score, classification_report, confusion_matrix, ConfusionMatrixDisplay\n",
    "\n",
    "# Visualization Libraries\n",
    "import plotly.express as px\n"
   ]
  },
  {
   "cell_type": "code",
   "execution_count": 34,
   "id": "26604dab",
   "metadata": {},
   "outputs": [],
   "source": [
    "df_url= pd.read_csv('url_dataset.csv')"
   ]
  },
  {
   "cell_type": "code",
   "execution_count": 35,
   "id": "e7490348",
   "metadata": {},
   "outputs": [
    {
     "data": {
      "text/html": [
       "<div>\n",
       "<style scoped>\n",
       "    .dataframe tbody tr th:only-of-type {\n",
       "        vertical-align: middle;\n",
       "    }\n",
       "\n",
       "    .dataframe tbody tr th {\n",
       "        vertical-align: top;\n",
       "    }\n",
       "\n",
       "    .dataframe thead th {\n",
       "        text-align: right;\n",
       "    }\n",
       "</style>\n",
       "<table border=\"1\" class=\"dataframe\">\n",
       "  <thead>\n",
       "    <tr style=\"text-align: right;\">\n",
       "      <th></th>\n",
       "      <th>url</th>\n",
       "      <th>type</th>\n",
       "    </tr>\n",
       "  </thead>\n",
       "  <tbody>\n",
       "    <tr>\n",
       "      <th>0</th>\n",
       "      <td>https://www.google.com</td>\n",
       "      <td>legitimate</td>\n",
       "    </tr>\n",
       "    <tr>\n",
       "      <th>1</th>\n",
       "      <td>https://www.youtube.com</td>\n",
       "      <td>legitimate</td>\n",
       "    </tr>\n",
       "    <tr>\n",
       "      <th>2</th>\n",
       "      <td>https://www.facebook.com</td>\n",
       "      <td>legitimate</td>\n",
       "    </tr>\n",
       "    <tr>\n",
       "      <th>3</th>\n",
       "      <td>https://www.baidu.com</td>\n",
       "      <td>legitimate</td>\n",
       "    </tr>\n",
       "    <tr>\n",
       "      <th>4</th>\n",
       "      <td>https://www.wikipedia.org</td>\n",
       "      <td>legitimate</td>\n",
       "    </tr>\n",
       "  </tbody>\n",
       "</table>\n",
       "</div>"
      ],
      "text/plain": [
       "                         url        type\n",
       "0     https://www.google.com  legitimate\n",
       "1    https://www.youtube.com  legitimate\n",
       "2   https://www.facebook.com  legitimate\n",
       "3      https://www.baidu.com  legitimate\n",
       "4  https://www.wikipedia.org  legitimate"
      ]
     },
     "execution_count": 35,
     "metadata": {},
     "output_type": "execute_result"
    }
   ],
   "source": [
    "df_url.head()"
   ]
  },
  {
   "cell_type": "code",
   "execution_count": 36,
   "id": "462f3cd1",
   "metadata": {},
   "outputs": [
    {
     "data": {
      "text/plain": [
       "Index(['url', 'type'], dtype='object')"
      ]
     },
     "execution_count": 36,
     "metadata": {},
     "output_type": "execute_result"
    }
   ],
   "source": [
    "df_url.columns"
   ]
  },
  {
   "cell_type": "code",
   "execution_count": 37,
   "id": "40a4a3ed",
   "metadata": {},
   "outputs": [
    {
     "name": "stdout",
     "output_type": "stream",
     "text": [
      "The Shape Of Data Is : (450176, 2)\n"
     ]
    }
   ],
   "source": [
    "print(f'The Shape Of Data Is : {df_url.shape}')"
   ]
  },
  {
   "cell_type": "code",
   "execution_count": 38,
   "id": "eb643a1f",
   "metadata": {},
   "outputs": [
    {
     "data": {
      "text/plain": [
       "0"
      ]
     },
     "execution_count": 38,
     "metadata": {},
     "output_type": "execute_result"
    }
   ],
   "source": [
    "# checking the duplicates\n",
    "df_url.duplicated().sum()"
   ]
  },
  {
   "cell_type": "code",
   "execution_count": 39,
   "id": "4595ab83",
   "metadata": {},
   "outputs": [],
   "source": [
    "# Convert all URLs to lowercase\n",
    "df_url['url'] = df_url['url'].str.lower()"
   ]
  },
  {
   "cell_type": "code",
   "execution_count": 40,
   "id": "08c77086",
   "metadata": {},
   "outputs": [],
   "source": [
    "# Remove protocols (http://, https://)\n",
    "df_url['url'] = df_url['url'].str.replace(r'^https?://', '', regex=True)"
   ]
  },
  {
   "cell_type": "code",
   "execution_count": 41,
   "id": "38e03509",
   "metadata": {},
   "outputs": [],
   "source": [
    "# Extract domain name\n",
    "df_url['domain'] = df_url['url'].str.extract(r'^([^/]+)')"
   ]
  },
  {
   "cell_type": "code",
   "execution_count": 42,
   "id": "2b3098f3",
   "metadata": {},
   "outputs": [],
   "source": [
    "# Tokenize URLs by splitting on non-alphanumeric characters\n",
    "df_url['tokens'] = df_url['url'].str.split(r'\\W+')"
   ]
  },
  {
   "cell_type": "code",
   "execution_count": 43,
   "id": "31d2dc17",
   "metadata": {},
   "outputs": [],
   "source": [
    "# Calculate URL length\n",
    "df_url['length'] = df_url['url'].str.len()"
   ]
  },
  {
   "cell_type": "code",
   "execution_count": 44,
   "id": "2bcad983",
   "metadata": {},
   "outputs": [
    {
     "data": {
      "image/png": "[encoded data removed]",
      "text/plain": [
       "<Figure size 1200x600 with 2 Axes>"
      ]
     },
     "metadata": {},
     "output_type": "display_data"
    }
   ],
   "source": [
    "# Value count of 'label'\n",
    "count = df_url['type'].value_counts()\n",
    "\n",
    "# Set the background color and theme\n",
    "background_color = '#5fa1bc'\n",
    "sns.set_theme(style=\"whitegrid\", rc={\"axes.facecolor\": background_color, 'figure.facecolor': background_color})\n",
    "\n",
    "# Create a figure with two subplots\n",
    "fig, axs = plt.subplots(1, 2, figsize=(12, 6), facecolor=background_color)\n",
    "\n",
    "# Plot pie chart on the first subplot\n",
    "palette = sns.color_palette(\"bright\", len(count))\n",
    "sns.set_palette(palette)\n",
    "axs[0].pie(count, labels=count.index, autopct='%1.1f%%', startangle=140)\n",
    "axs[0].set_title('Distribution of Categories', fontsize=15, fontweight='bold')\n",
    "\n",
    "# Plot bar chart on the second subplot\n",
    "sns.barplot(x=count.index, y=count.values, ax=axs[1], palette=palette)\n",
    "axs[1].set_title('Count of Categories', fontsize=15, fontweight='bold')\n",
    "\n",
    "# Adjust layout\n",
    "plt.tight_layout()\n",
    "\n",
    "# Show the plot\n",
    "plt.show()"
   ]
  },
  {
   "cell_type": "code",
   "execution_count": 45,
   "id": "f5d16644",
   "metadata": {},
   "outputs": [
    {
     "data": {
      "text/html": [
       "<div>\n",
       "<style scoped>\n",
       "    .dataframe tbody tr th:only-of-type {\n",
       "        vertical-align: middle;\n",
       "    }\n",
       "\n",
       "    .dataframe tbody tr th {\n",
       "        vertical-align: top;\n",
       "    }\n",
       "\n",
       "    .dataframe thead th {\n",
       "        text-align: right;\n",
       "    }\n",
       "</style>\n",
       "<table border=\"1\" class=\"dataframe\">\n",
       "  <thead>\n",
       "    <tr style=\"text-align: right;\">\n",
       "      <th></th>\n",
       "      <th>url</th>\n",
       "      <th>type</th>\n",
       "      <th>domain</th>\n",
       "      <th>tokens</th>\n",
       "      <th>length</th>\n",
       "    </tr>\n",
       "  </thead>\n",
       "  <tbody>\n",
       "    <tr>\n",
       "      <th>0</th>\n",
       "      <td>www.google.com</td>\n",
       "      <td>legitimate</td>\n",
       "      <td>www.google.com</td>\n",
       "      <td>[www, google, com]</td>\n",
       "      <td>14</td>\n",
       "    </tr>\n",
       "    <tr>\n",
       "      <th>1</th>\n",
       "      <td>www.youtube.com</td>\n",
       "      <td>legitimate</td>\n",
       "      <td>www.youtube.com</td>\n",
       "      <td>[www, youtube, com]</td>\n",
       "      <td>15</td>\n",
       "    </tr>\n",
       "    <tr>\n",
       "      <th>2</th>\n",
       "      <td>www.facebook.com</td>\n",
       "      <td>legitimate</td>\n",
       "      <td>www.facebook.com</td>\n",
       "      <td>[www, facebook, com]</td>\n",
       "      <td>16</td>\n",
       "    </tr>\n",
       "    <tr>\n",
       "      <th>3</th>\n",
       "      <td>www.baidu.com</td>\n",
       "      <td>legitimate</td>\n",
       "      <td>www.baidu.com</td>\n",
       "      <td>[www, baidu, com]</td>\n",
       "      <td>13</td>\n",
       "    </tr>\n",
       "    <tr>\n",
       "      <th>4</th>\n",
       "      <td>www.wikipedia.org</td>\n",
       "      <td>legitimate</td>\n",
       "      <td>www.wikipedia.org</td>\n",
       "      <td>[www, wikipedia, org]</td>\n",
       "      <td>17</td>\n",
       "    </tr>\n",
       "  </tbody>\n",
       "</table>\n",
       "</div>"
      ],
      "text/plain": [
       "                 url        type             domain                 tokens  \\\n",
       "0     www.google.com  legitimate     www.google.com     [www, google, com]   \n",
       "1    www.youtube.com  legitimate    www.youtube.com    [www, youtube, com]   \n",
       "2   www.facebook.com  legitimate   www.facebook.com   [www, facebook, com]   \n",
       "3      www.baidu.com  legitimate      www.baidu.com      [www, baidu, com]   \n",
       "4  www.wikipedia.org  legitimate  www.wikipedia.org  [www, wikipedia, org]   \n",
       "\n",
       "   length  \n",
       "0      14  \n",
       "1      15  \n",
       "2      16  \n",
       "3      13  \n",
       "4      17  "
      ]
     },
     "execution_count": 45,
     "metadata": {},
     "output_type": "execute_result"
    }
   ],
   "source": [
    "df_url.head()"
   ]
  },
  {
   "cell_type": "code",
   "execution_count": 46,
   "id": "bf26c886",
   "metadata": {},
   "outputs": [],
   "source": [
    "#label encoding for the Email Type Column\n",
    "le1 = LabelEncoder()\n",
    "df_url[\"type\"] = le1.fit_transform(df_url[\"type\"])"
   ]
  },
  {
   "cell_type": "code",
   "execution_count": 47,
   "id": "ba38f146",
   "metadata": {},
   "outputs": [
    {
     "data": {
      "text/html": [
       "<div>\n",
       "<style scoped>\n",
       "    .dataframe tbody tr th:only-of-type {\n",
       "        vertical-align: middle;\n",
       "    }\n",
       "\n",
       "    .dataframe tbody tr th {\n",
       "        vertical-align: top;\n",
       "    }\n",
       "\n",
       "    .dataframe thead th {\n",
       "        text-align: right;\n",
       "    }\n",
       "</style>\n",
       "<table border=\"1\" class=\"dataframe\">\n",
       "  <thead>\n",
       "    <tr style=\"text-align: right;\">\n",
       "      <th></th>\n",
       "      <th>url</th>\n",
       "      <th>type</th>\n",
       "      <th>domain</th>\n",
       "      <th>tokens</th>\n",
       "      <th>length</th>\n",
       "    </tr>\n",
       "  </thead>\n",
       "  <tbody>\n",
       "    <tr>\n",
       "      <th>0</th>\n",
       "      <td>www.google.com</td>\n",
       "      <td>0</td>\n",
       "      <td>www.google.com</td>\n",
       "      <td>[www, google, com]</td>\n",
       "      <td>14</td>\n",
       "    </tr>\n",
       "    <tr>\n",
       "      <th>1</th>\n",
       "      <td>www.youtube.com</td>\n",
       "      <td>0</td>\n",
       "      <td>www.youtube.com</td>\n",
       "      <td>[www, youtube, com]</td>\n",
       "      <td>15</td>\n",
       "    </tr>\n",
       "    <tr>\n",
       "      <th>2</th>\n",
       "      <td>www.facebook.com</td>\n",
       "      <td>0</td>\n",
       "      <td>www.facebook.com</td>\n",
       "      <td>[www, facebook, com]</td>\n",
       "      <td>16</td>\n",
       "    </tr>\n",
       "    <tr>\n",
       "      <th>3</th>\n",
       "      <td>www.baidu.com</td>\n",
       "      <td>0</td>\n",
       "      <td>www.baidu.com</td>\n",
       "      <td>[www, baidu, com]</td>\n",
       "      <td>13</td>\n",
       "    </tr>\n",
       "    <tr>\n",
       "      <th>4</th>\n",
       "      <td>www.wikipedia.org</td>\n",
       "      <td>0</td>\n",
       "      <td>www.wikipedia.org</td>\n",
       "      <td>[www, wikipedia, org]</td>\n",
       "      <td>17</td>\n",
       "    </tr>\n",
       "  </tbody>\n",
       "</table>\n",
       "</div>"
      ],
      "text/plain": [
       "                 url  type             domain                 tokens  length\n",
       "0     www.google.com     0     www.google.com     [www, google, com]      14\n",
       "1    www.youtube.com     0    www.youtube.com    [www, youtube, com]      15\n",
       "2   www.facebook.com     0   www.facebook.com   [www, facebook, com]      16\n",
       "3      www.baidu.com     0      www.baidu.com      [www, baidu, com]      13\n",
       "4  www.wikipedia.org     0  www.wikipedia.org  [www, wikipedia, org]      17"
      ]
     },
     "execution_count": 47,
     "metadata": {},
     "output_type": "execute_result"
    }
   ],
   "source": [
    "df_url.head()"
   ]
  },
  {
   "cell_type": "code",
   "execution_count": 48,
   "id": "9c4639e2",
   "metadata": {},
   "outputs": [],
   "source": [
    "# Convert tokens to strings for tokenizer\n",
    "df_url['tokens_str'] = df_url['tokens'].apply(lambda x: ' '.join(x))"
   ]
  },
  {
   "cell_type": "code",
   "execution_count": 49,
   "id": "eee9cb41",
   "metadata": {},
   "outputs": [
    {
     "data": {
      "text/html": [
       "<div>\n",
       "<style scoped>\n",
       "    .dataframe tbody tr th:only-of-type {\n",
       "        vertical-align: middle;\n",
       "    }\n",
       "\n",
       "    .dataframe tbody tr th {\n",
       "        vertical-align: top;\n",
       "    }\n",
       "\n",
       "    .dataframe thead th {\n",
       "        text-align: right;\n",
       "    }\n",
       "</style>\n",
       "<table border=\"1\" class=\"dataframe\">\n",
       "  <thead>\n",
       "    <tr style=\"text-align: right;\">\n",
       "      <th></th>\n",
       "      <th>url</th>\n",
       "      <th>type</th>\n",
       "      <th>domain</th>\n",
       "      <th>tokens</th>\n",
       "      <th>length</th>\n",
       "      <th>tokens_str</th>\n",
       "    </tr>\n",
       "  </thead>\n",
       "  <tbody>\n",
       "    <tr>\n",
       "      <th>0</th>\n",
       "      <td>www.google.com</td>\n",
       "      <td>0</td>\n",
       "      <td>www.google.com</td>\n",
       "      <td>[www, google, com]</td>\n",
       "      <td>14</td>\n",
       "      <td>www google com</td>\n",
       "    </tr>\n",
       "    <tr>\n",
       "      <th>1</th>\n",
       "      <td>www.youtube.com</td>\n",
       "      <td>0</td>\n",
       "      <td>www.youtube.com</td>\n",
       "      <td>[www, youtube, com]</td>\n",
       "      <td>15</td>\n",
       "      <td>www youtube com</td>\n",
       "    </tr>\n",
       "    <tr>\n",
       "      <th>2</th>\n",
       "      <td>www.facebook.com</td>\n",
       "      <td>0</td>\n",
       "      <td>www.facebook.com</td>\n",
       "      <td>[www, facebook, com]</td>\n",
       "      <td>16</td>\n",
       "      <td>www facebook com</td>\n",
       "    </tr>\n",
       "    <tr>\n",
       "      <th>3</th>\n",
       "      <td>www.baidu.com</td>\n",
       "      <td>0</td>\n",
       "      <td>www.baidu.com</td>\n",
       "      <td>[www, baidu, com]</td>\n",
       "      <td>13</td>\n",
       "      <td>www baidu com</td>\n",
       "    </tr>\n",
       "    <tr>\n",
       "      <th>4</th>\n",
       "      <td>www.wikipedia.org</td>\n",
       "      <td>0</td>\n",
       "      <td>www.wikipedia.org</td>\n",
       "      <td>[www, wikipedia, org]</td>\n",
       "      <td>17</td>\n",
       "      <td>www wikipedia org</td>\n",
       "    </tr>\n",
       "  </tbody>\n",
       "</table>\n",
       "</div>"
      ],
      "text/plain": [
       "                 url  type             domain                 tokens  length  \\\n",
       "0     www.google.com     0     www.google.com     [www, google, com]      14   \n",
       "1    www.youtube.com     0    www.youtube.com    [www, youtube, com]      15   \n",
       "2   www.facebook.com     0   www.facebook.com   [www, facebook, com]      16   \n",
       "3      www.baidu.com     0      www.baidu.com      [www, baidu, com]      13   \n",
       "4  www.wikipedia.org     0  www.wikipedia.org  [www, wikipedia, org]      17   \n",
       "\n",
       "          tokens_str  \n",
       "0     www google com  \n",
       "1    www youtube com  \n",
       "2   www facebook com  \n",
       "3      www baidu com  \n",
       "4  www wikipedia org  "
      ]
     },
     "execution_count": 49,
     "metadata": {},
     "output_type": "execute_result"
    }
   ],
   "source": [
    "df_url.head()"
   ]
  },
  {
   "cell_type": "code",
   "execution_count": 50,
   "id": "d7d5f05a",
   "metadata": {},
   "outputs": [],
   "source": [
    "# TF-IDF Vectorization (with reduced max features)\n",
    "tfidf = TfidfVectorizer(max_features=1000)  # Reduce the number of features to 1000\n",
    "X = tfidf.fit_transform(df_url['tokens_str'])"
   ]
  },
  {
   "cell_type": "code",
   "execution_count": 51,
   "id": "4f19ab7b",
   "metadata": {},
   "outputs": [],
   "source": [
    "Y = np.array(df_url['type']) # convert the label into numpy array"
   ]
  },
  {
   "cell_type": "code",
   "execution_count": 52,
   "id": "cfcb53bc",
   "metadata": {},
   "outputs": [],
   "source": [
    "# Split data into training and testing sets\n",
    "X_TRAIN, X_TEST, Y_TRAIN, Y_TEST = train_test_split(X, Y, test_size=0.2, random_state=42)"
   ]
  },
  {
   "cell_type": "code",
   "execution_count": 53,
   "id": "64996c2f",
   "metadata": {},
   "outputs": [
    {
     "data": {
      "text/html": [
       "<style>#sk-container-id-2 {color: black;}#sk-container-id-2 pre{padding: 0;}#sk-container-id-2 div.sk-toggleable {background-color: white;}#sk-container-id-2 label.sk-toggleable__label {cursor: pointer;display: block;width: 100%;margin-bottom: 0;padding: 0.3em;box-sizing: border-box;text-align: center;}#sk-container-id-2 label.sk-toggleable__label-arrow:before {content: \"▸\";float: left;margin-right: 0.25em;color: #696969;}#sk-container-id-2 label.sk-toggleable__label-arrow:hover:before {color: black;}#sk-container-id-2 div.sk-estimator:hover label.sk-toggleable__label-arrow:before {color: black;}#sk-container-id-2 div.sk-toggleable__content {max-height: 0;max-width: 0;overflow: hidden;text-align: left;background-color: #f0f8ff;}#sk-container-id-2 div.sk-toggleable__content pre {margin: 0.2em;color: black;border-radius: 0.25em;background-color: #f0f8ff;}#sk-container-id-2 input.sk-toggleable__control:checked~div.sk-toggleable__content {max-height: 200px;max-width: 100%;overflow: auto;}#sk-container-id-2 input.sk-toggleable__control:checked~label.sk-toggleable__label-arrow:before {content: \"▾\";}#sk-container-id-2 div.sk-estimator input.sk-toggleable__control:checked~label.sk-toggleable__label {background-color: #d4ebff;}#sk-container-id-2 div.sk-label input.sk-toggleable__control:checked~label.sk-toggleable__label {background-color: #d4ebff;}#sk-container-id-2 input.sk-hidden--visually {border: 0;clip: rect(1px 1px 1px 1px);clip: rect(1px, 1px, 1px, 1px);height: 1px;margin: -1px;overflow: hidden;padding: 0;position: absolute;width: 1px;}#sk-container-id-2 div.sk-estimator {font-family: monospace;background-color: #f0f8ff;border: 1px dotted black;border-radius: 0.25em;box-sizing: border-box;margin-bottom: 0.5em;}#sk-container-id-2 div.sk-estimator:hover {background-color: #d4ebff;}#sk-container-id-2 div.sk-parallel-item::after {content: \"\";width: 100%;border-bottom: 1px solid gray;flex-grow: 1;}#sk-container-id-2 div.sk-label:hover label.sk-toggleable__label {background-color: #d4ebff;}#sk-container-id-2 div.sk-serial::before {content: \"\";position: absolute;border-left: 1px solid gray;box-sizing: border-box;top: 0;bottom: 0;left: 50%;z-index: 0;}#sk-container-id-2 div.sk-serial {display: flex;flex-direction: column;align-items: center;background-color: white;padding-right: 0.2em;padding-left: 0.2em;position: relative;}#sk-container-id-2 div.sk-item {position: relative;z-index: 1;}#sk-container-id-2 div.sk-parallel {display: flex;align-items: stretch;justify-content: center;background-color: white;position: relative;}#sk-container-id-2 div.sk-item::before, #sk-container-id-2 div.sk-parallel-item::before {content: \"\";position: absolute;border-left: 1px solid gray;box-sizing: border-box;top: 0;bottom: 0;left: 50%;z-index: -1;}#sk-container-id-2 div.sk-parallel-item {display: flex;flex-direction: column;z-index: 1;position: relative;background-color: white;}#sk-container-id-2 div.sk-parallel-item:first-child::after {align-self: flex-end;width: 50%;}#sk-container-id-2 div.sk-parallel-item:last-child::after {align-self: flex-start;width: 50%;}#sk-container-id-2 div.sk-parallel-item:only-child::after {width: 0;}#sk-container-id-2 div.sk-dashed-wrapped {border: 1px dashed gray;margin: 0 0.4em 0.5em 0.4em;box-sizing: border-box;padding-bottom: 0.4em;background-color: white;}#sk-container-id-2 div.sk-label label {font-family: monospace;font-weight: bold;display: inline-block;line-height: 1.2em;}#sk-container-id-2 div.sk-label-container {text-align: center;}#sk-container-id-2 div.sk-container {/* jupyter's `normalize.less` sets `[hidden] { display: none; }` but bootstrap.min.css set `[hidden] { display: none !important; }` so we also need the `!important` here to be able to override the default hidden behavior on the sphinx rendered scikit-learn.org. See: https://github.com/scikit-learn/scikit-learn/issues/21755 */display: inline-block !important;position: relative;}#sk-container-id-2 div.sk-text-repr-fallback {display: none;}</style><div id=\"sk-container-id-2\" class=\"sk-top-container\"><div class=\"sk-text-repr-fallback\"><pre>LogisticRegression(max_iter=1000)</pre><b>In a Jupyter environment, please rerun this cell to show the HTML representation or trust the notebook. <br />On GitHub, the HTML representation is unable to render, please try loading this page with nbviewer.org.</b></div><div class=\"sk-container\" hidden><div class=\"sk-item\"><div class=\"sk-estimator sk-toggleable\"><input class=\"sk-toggleable__control sk-hidden--visually\" id=\"sk-estimator-id-2\" type=\"checkbox\" checked><label for=\"sk-estimator-id-2\" class=\"sk-toggleable__label sk-toggleable__label-arrow\">LogisticRegression</label><div class=\"sk-toggleable__content\"><pre>LogisticRegression(max_iter=1000)</pre></div></div></div></div></div>"
      ],
      "text/plain": [
       "LogisticRegression(max_iter=1000)"
      ]
     },
     "execution_count": 53,
     "metadata": {},
     "output_type": "execute_result"
    }
   ],
   "source": [
    "# Logistic Regression Model\n",
    "model1 = LogisticRegression(max_iter=1000)\n",
    "model1.fit(X_TRAIN, Y_TRAIN)\n"
   ]
  },
  {
   "cell_type": "code",
   "execution_count": 54,
   "id": "2cc8cda9",
   "metadata": {},
   "outputs": [],
   "source": [
    "# Predictions\n",
    "Y_PRED = model1.predict(X_TEST)"
   ]
  },
  {
   "cell_type": "code",
   "execution_count": 55,
   "id": "3b5d70df",
   "metadata": {},
   "outputs": [
    {
     "name": "stdout",
     "output_type": "stream",
     "text": [
      "Accuracy: 0.9775867430805456\n"
     ]
    }
   ],
   "source": [
    "# Evaluate the model\n",
    "print(\"Accuracy:\", accuracy_score(Y_TEST, Y_PRED))"
   ]
  },
  {
   "cell_type": "code",
   "execution_count": 56,
   "id": "5c3dfaef",
   "metadata": {},
   "outputs": [
    {
     "data": {
      "text/plain": [
       "<Figure size 400x300 with 0 Axes>"
      ]
     },
     "metadata": {},
     "output_type": "display_data"
    },
    {
     "data": {
      "image/png": "[encoded data removed]",
      "text/plain": [
       "<Figure size 640x480 with 2 Axes>"
      ]
     },
     "metadata": {},
     "output_type": "display_data"
    }
   ],
   "source": [
    "# Confusion Matrix Visualization\n",
    "conf_matrix = confusion_matrix(Y_TEST, Y_PRED)\n",
    "disp = ConfusionMatrixDisplay(conf_matrix, display_labels=['Phishing Link', 'Safe link'])\n",
    "\n",
    "# Plotting the confusion matrix\n",
    "plt.figure(figsize=(4, 3))\n",
    "disp.plot(cmap='Blues', values_format='d') \n",
    "plt.title(\"Confusion Matrix URLS - LE\", fontsize=14)\n",
    "plt.xlabel(\"Predicted Label\", fontsize=12)\n",
    "plt.ylabel(\"True Label\", fontsize=12)\n",
    "plt.grid(False)\n",
    "plt.show()"
   ]
  },
  {
   "cell_type": "code",
   "execution_count": 58,
   "id": "966e8a02",
   "metadata": {},
   "outputs": [
    {
     "name": "stdout",
     "output_type": "stream",
     "text": [
      "Model saved to URL_LR.pkl\n"
     ]
    }
   ],
   "source": [
    "# Save the trained model to a pickle file\n",
    "with open(\"URL_LR.pkl\", \"wb\") as f:\n",
    "    pickle.dump((tfidf, model1), f)\n",
    "\n",
    "print(\"Model saved to URL_LR.pkl\")"
   ]
  },
  {
   "cell_type": "code",
   "execution_count": null,
   "id": "31c53681",
   "metadata": {},
   "outputs": [],
   "source": []
  }
 ],
 "metadata": {
  "kernelspec": {
   "display_name": "Python 3 (ipykernel)",
   "language": "python",
   "name": "python3"
  },
  "language_info": {
   "codemirror_mode": {
    "name": "ipython",
    "version": 3
   },
   "file_extension": ".py",
   "mimetype": "text/x-python",
   "name": "python",
   "nbconvert_exporter": "python",
   "pygments_lexer": "ipython3",
   "version": "3.11.5"
  }
 },
 "nbformat": 4,
 "nbformat_minor": 5
}
